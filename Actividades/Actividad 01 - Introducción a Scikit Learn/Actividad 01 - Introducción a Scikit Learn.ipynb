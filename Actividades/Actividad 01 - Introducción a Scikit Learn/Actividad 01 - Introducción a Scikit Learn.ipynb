{
 "cells": [
  {
   "cell_type": "markdown",
   "id": "12f9d67f",
   "metadata": {},
   "source": [
    "# Actividad 01 - Introducción a Scikit Learn\n",
    "\n",
    "En esta tarea vamos a intentar predecir el presupuesto de una comuna a partir de otros datos. Vamos a trabajar con los mismos datos de la actividad pasada, pero además, vamos a sumar un nuevo _dataset_. A continuación te dejamos un resumen de los datos disponibles.\n",
    "\n",
    "### Conjuntos de Datos\n",
    "\n",
    "Se le entregan 4 conjuntos de datos: codigos.csv, datos_comunas.csv, presupuesto_2019.csv y poblacion.csv. \n",
    "\n",
    "#### codigos.csv\n",
    "\n",
    " | columna | descripción |\n",
    " | --- | :---: |\n",
    " | Código Región | **Entero**: Identificador único para cada región. |\n",
    " | Nombre Región | **String**: Nombre de la región. |\n",
    " | Abreviatura Región | **String**: Abreviatura (en letras) o nombre corto de la región.  |\n",
    " | Código Provincia | **Entero**: Identificador único para cada provincia. |\n",
    " | Nombre Provincia | **String**: Nombre de la provincia. |\n",
    " | Código Comuna 2018 | **Entero**: Identificador único para cada comuna. |\n",
    " | Nombre Comuna | **String**: Nombre de la comuna. |\n",
    "\n",
    " #### datos_comunas.csv\n",
    "\n",
    " | columna | descripción |\n",
    " | --- | :---: |\n",
    " | id | **Entero**: Identificador único para cada comuna. Mismo identificador que en **codigos.csv**. |\n",
    " | metros_plaza | **Entero**: Cantidad de metros de plaza que tiene la comuna. |\n",
    " | metros_parque | **Entero**: Cantidad de metros de parque que tiene la comuna.  |\n",
    " | personas_trabaja | **Entero**: Número de personas que trabaja en la municipalidad de la comuna. |\n",
    "\n",
    " #### presupuesto_2019.csv\n",
    "\n",
    " | columna | descripción |\n",
    " | --- | :---: |\n",
    " | CODIGO | **Entero**: Identificador único para cada comuna. Mismo identificador que en **codigos.csv**. |\n",
    " | MUNICIPIO | **String**: Nombre de la comuna. |\n",
    " | PRESUPUESTO | **Entero**: Presupuesto destinado a la comuna.  |\n",
    "\n",
    " **Observación**: en la columna `PRESUPUESTO`, hay datos que están como \"no recepcionados. Eso puede producir que los análisis fallen, por lo que se recomienda limpiar los datos antes.\n",
    "\n",
    " #### poblacion.csv\n",
    "\n",
    " | columna | descripción |\n",
    " | --- | :---: |\n",
    " | CODIGO | **Entero**: Identificador único para cada comuna. Mismo identificador que en **codigos.csv**. |\n",
    " | MUNICIPIO | **String**: Nombre de la comuna. |\n",
    " | POBLACIÓN | **Entero**: Número de personas que vive en la comuna.  |\n",
    "\n",
    "\n",
    "**Detalles académicos**: esta tarea es individual y su fecha de entrega es el jueves 26 de agosto hasta las 23:59 horas. Debes entregar un _notebook_ con tu código y con texto en donde también discutas los resultados según se solicite en cada pregunta."
   ]
  },
  {
   "cell_type": "markdown",
   "id": "73648d6f",
   "metadata": {},
   "source": [
    "## La Tarea\n",
    "\n",
    "Como mencionamos al principio, vamos a hacer un programa que prediga el presupuesto de una comuna. Esta tarea tiene varias partes y la idea es que las vayas realizando en orden secuencial para cumplir con el objetivo. A grandes rasgos tus tareas son:\n",
    "\n",
    "1. Cargar en un `DataFrame` todos los datos que vamos a necesitar.\n",
    "2. Visualizar la variable que quieres predecir en función de las demás variables. Además, debes calcular la matriz de correlación.\n",
    "3. Medir el desempeño de varias configuraciones de variables para entrenar los modelos.\n",
    "4. Escoger las variables que utilizarás en tu modelo y entrenarlo."
   ]
  },
  {
   "cell_type": "markdown",
   "id": "c691e086",
   "metadata": {},
   "source": [
    "**Parte 01 - \\[1 pto\\]**. Carga los documentos y genera un `DataFrame` que tenga las siguientes columnas:\n",
    "\n",
    "- Nombre de la comuna\n",
    "- Metros de plaza de la comuna\n",
    "- Metros de parque de la comuna\n",
    "- Personas que trabajan en la comuna\n",
    "- Población de la comuna\n",
    "- Presupuesto de la comuna\n",
    "\n",
    "Toma los supuestos que creas necesarios para trabajar los valores nulos. Haz además un resumen de los datos con la función `.describe()`. ¿Puedes deducir algo a partir de estos valores?"
   ]
  },
  {
   "cell_type": "code",
   "execution_count": null,
   "id": "6dddbb77",
   "metadata": {},
   "outputs": [],
   "source": []
  },
  {
   "cell_type": "markdown",
   "id": "7aef640e",
   "metadata": {},
   "source": [
    "**Parte 02 - \\[2 pts\\]**. En base a tus datos, genera los siguientes gráficos de dispersión:\n",
    "\n",
    "- Presupuesto de la comuna en función de los metros plaza\n",
    "- Presupuesto de la comuna en función de los metros de parque\n",
    "- Presupuesto de la comuna en función de la gente que trabaja en la comuna\n",
    "- Presupuesto de la comuna en función de la población de la comuna\n",
    "\n",
    "Calcula además las respectivas correlaciones según lo visto en clases. ¿Que conclusiones puedes comenzar a sacar?"
   ]
  },
  {
   "cell_type": "code",
   "execution_count": null,
   "id": "d5e0748e",
   "metadata": {},
   "outputs": [],
   "source": []
  },
  {
   "cell_type": "markdown",
   "id": "9215cb59",
   "metadata": {},
   "source": [
    "**Parte 03 - \\[2 pts\\]**. Escoge al menos 3 conjuntos distintos de variables para realizar la regresión lineal, que según tu analisis previo sean prometedores. Evalúa tus resultados utilizando _cross-validation_ con `cv=8`. ¿Qué te dicen los resultados? ¿Cuál elección de variables crees que va a funcionar mejor?. Además, justifica la elección de tus variables."
   ]
  },
  {
   "cell_type": "code",
   "execution_count": null,
   "id": "6f02181a",
   "metadata": {},
   "outputs": [],
   "source": []
  },
  {
   "cell_type": "markdown",
   "id": "bba4459d",
   "metadata": {},
   "source": [
    "**Parte 04 - \\[1 pts\\]**. Toma el modelo que según tú crees que es mejor, y entrénalo sobre todos los datos. Muestra sus coeficientes (incluyendo el _intercept_). Además, discute las siguientes preguntas:\n",
    "\n",
    "- ¿Por qué crees que el modelo que escogiste es el mejor?\n",
    "- ¿Qué te parecen los resultados de tu modelo?\n",
    "- ¿Cómo crees que puedes mejorar los resultados?"
   ]
  },
  {
   "cell_type": "code",
   "execution_count": null,
   "id": "662811d5",
   "metadata": {},
   "outputs": [],
   "source": []
  },
  {
   "cell_type": "markdown",
   "id": "b4f23cd1",
   "metadata": {},
   "source": [
    "**Bonus \\[1 pto\\]**. Averigua lo que es un `StandardScaler` y aplicalo sobre tus datos de entrenamiento para la configuración de variables que escogiste. Responde las siguientes preguntas:\n",
    "\n",
    "- ¿Para qué sirve esta herramienta?\n",
    "- ¿Mejora el desempeño del modelo? \n",
    "- ¿Cómo cambian los coeficientes? \n",
    "\n",
    "**Ojo**: los scaler **no se aplican** sobre la variable que quieres predecir. Además, si haces la división entre datos de prueba y entrenamiento, el _scaler_ solamente se entrena sobre los datos de entrenamiento."
   ]
  },
  {
   "cell_type": "code",
   "execution_count": null,
   "id": "0a324efa",
   "metadata": {},
   "outputs": [],
   "source": []
  }
 ],
 "metadata": {
  "kernelspec": {
   "display_name": "Python 3",
   "language": "python",
   "name": "python3"
  },
  "language_info": {
   "codemirror_mode": {
    "name": "ipython",
    "version": 3
   },
   "file_extension": ".py",
   "mimetype": "text/x-python",
   "name": "python",
   "nbconvert_exporter": "python",
   "pygments_lexer": "ipython3",
   "version": "3.9.5"
  }
 },
 "nbformat": 4,
 "nbformat_minor": 5
}
